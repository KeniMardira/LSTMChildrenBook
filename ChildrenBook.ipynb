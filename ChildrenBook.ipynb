{
 "cells": [
  {
   "cell_type": "code",
   "execution_count": null,
   "metadata": {},
   "outputs": [],
   "source": [
    "import torch\n",
    "import torch.autograd as autograd\n",
    "import torch.nn as nn\n",
    "import torch.nn.functional as F\n",
    "import torch.optim as optim\n",
    "import matplotlib.pyplot as plt\n",
    "\n",
    "% matplotlib inline"
   ]
  },
  {
   "cell_type": "code",
   "execution_count": null,
   "metadata": {},
   "outputs": [],
   "source": [
    "def prepare_sequence(seq, to_ix):\n",
    "    idxs = [to_ix[w] for w in seq]\n",
    "    tensor = torch.LongTensor(idxs)\n",
    "    return autograd.Variable(tensor)\n",
    "\n",
    "training_data = [\n",
    "    (\"Doug saw Judy\".split(), [0,1,2], \"saw Judy .\".split(), [1,2,3]),\n",
    "    (\"saw Judy .\".split(), [1,2,3], \"Judy . Judy\".split(), [2,3,2]),\n",
    "    (\"Judy . Judy\".split(), [2,3,2], \". Judy saw\".split(), [3,2,1]),\n",
    "    (\". Judy saw\".split(), [3,2,1], \"Judy saw Brad\".split(), [2,1,4]),\n",
    "    (\"Judy saw Brad\".split(), [2,1,4], \"saw Brad .\".split(), [1,4,3]),\n",
    "    (\"saw Brad .\".split(), [1,4,3], \"Brad . Brad\".split(), [4,3,4]),\n",
    "    (\"Brad . Brad\".split(), [4,3,4], \". Brad saw\".split(), [3,4,1]),\n",
    "    (\". Brad saw\".split(), [3,4,1], \"Brad saw Doug\".split(), [4,1,0]),\n",
    "    (\"Brad saw Doug\".split(), [4,1,0], \"saw Doug .\".split(), [1,0,3]),\n",
    "    (\"saw Doug .\".split(), [1,0,3], \"Doug . Doug\".split(), [0,3,0]),\n",
    "    (\"Doug . Doug\".split(), [0,3,0], \". Doug saw\".split(), [3,0,1]),\n",
    "    (\". Doug saw\".split(), [3,0,1], \"Doug saw Judy\".split(), [0,1,2])\n",
    "]\n",
    "\n",
    "word_to_ix = {}\n",
    "for inp, t_in, out, t_out in training_data:\n",
    "    for word in inp:\n",
    "        if word not in word_to_ix:\n",
    "            word_to_ix[word] = len(word_to_ix)\n",
    "print(word_to_ix)\n",
    "tag_to_ix = {'Doug': 0, 'saw': 1, 'Judy': 2, '.': 3, 'Brad': 4}\n",
    "output_dict = {0:'Doug', 1:'saw', 2:'Judy', 3:'.', 4:'Brad'}"
   ]
  },
  {
   "cell_type": "code",
   "execution_count": null,
   "metadata": {},
   "outputs": [],
   "source": [
    "INPUT_SIZE = 6\n",
    "OUTPUT_SIZE = 6\n",
    "LAYER_SIZE = 1\n",
    "BATCH_SIZE = 1\n",
    "\n",
    "class CBLSTM(nn.Module):\n",
    "\n",
    "    def __init__(self, INPUT_SIZE, OUTPUT_SIZE, vocab_size, tagset_size):\n",
    "        super(CBLSTM, self).__init__()\n",
    "        self.hidden_dim = OUTPUT_SIZE\n",
    "        self.vocab_size = vocab_size\n",
    "        self.word_embeddings = nn.Embedding(vocab_size, INPUT_SIZE)\n",
    "        \n",
    "        self.lstm = nn.LSTM(INPUT_SIZE, OUTPUT_SIZE, LAYER_SIZE)\n",
    "\n",
    "        self.hidden2tag = nn.Linear(OUTPUT_SIZE, tagset_size)\n",
    "        self.hidden = self.init_hidden()\n",
    "\n",
    "    def init_hidden(self):\n",
    "        return (autograd.Variable(torch.zeros(LAYER_SIZE, BATCH_SIZE, OUTPUT_SIZE)),\n",
    "                autograd.Variable(torch.zeros(LAYER_SIZE, BATCH_SIZE, OUTPUT_SIZE)))\n",
    "\n",
    "    def init_rand_hidden(self):\n",
    "        return (autograd.Variable(torch.rand(LAYER_SIZE, BATCH_SIZE, OUTPUT_SIZE))*5,\n",
    "                autograd.Variable(torch.rand(LAYER_SIZE, BATCH_SIZE, OUTPUT_SIZE))*5)\n",
    "    \n",
    "    def forward(self, sentence):\n",
    "        embeds = self.word_embeddings(sentence) # embed the sentence e.g. [0,1,2] to 3x6 (3 words, 6 embed size)\n",
    "        lstm_out, self.hidden = self.lstm(\n",
    "            embeds.view(len(sentence), 1, -1), self.hidden)\n",
    "        tag_space = self.hidden2tag(lstm_out.view(len(sentence), -1))\n",
    "        tag_scores = F.log_softmax(tag_space, dim=1)\n",
    "        return tag_scores"
   ]
  },
  {
   "cell_type": "code",
   "execution_count": null,
   "metadata": {},
   "outputs": [],
   "source": [
    "model = CBLSTM(INPUT_SIZE, OUTPUT_SIZE, len(word_to_ix), len(tag_to_ix))\n",
    "loss_function = nn.NLLLoss()\n",
    "optimizer = optim.SGD(model.parameters(), lr=1)\n",
    "loss_save = []\n",
    "for epoch in range(300):\n",
    "    for sentence, _, tags, _ in training_data:\n",
    "        model.zero_grad()\n",
    "        model.hidden = model.init_hidden()\n",
    "        sentence_in = prepare_sequence(sentence, word_to_ix)\n",
    "        targets = prepare_sequence(tags, tag_to_ix)\n",
    "        tag_scores = model(sentence_in)\n",
    "        loss = loss_function(tag_scores, targets)\n",
    "        loss_save.append(loss.data[0])\n",
    "        loss.backward()\n",
    "        optimizer.step()\n",
    "\n",
    "plt.figure(figsize=[20,6])\n",
    "plt.plot(loss_save)\n",
    "plt.show()\n"
   ]
  },
  {
   "cell_type": "markdown",
   "metadata": {},
   "source": [
    "# Input = 3 words, usually output perfect output"
   ]
  },
  {
   "cell_type": "code",
   "execution_count": null,
   "metadata": {},
   "outputs": [],
   "source": [
    "childrenbook = []\n",
    "inputs = prepare_sequence(training_data[9][0], word_to_ix)\n",
    "for i in range(100):\n",
    "    tag_scores = model(inputs)\n",
    "    _, out = tag_scores[-1:,:].max(dim = 1)\n",
    "    childrenbook.append(output_dict[int(out.data.numpy())])\n",
    "    inputs = inputs[1:]\n",
    "    nextin = autograd.Variable(torch.LongTensor([tag_to_ix[output_dict[int(out.data.numpy())]]]))\n",
    "    inputs = torch.cat((inputs, nextin))\n",
    "\n",
    "for i in range(int(len(childrenbook))):\n",
    "    print(childrenbook[i], end = \" \")"
   ]
  },
  {
   "cell_type": "markdown",
   "metadata": {},
   "source": [
    "# Input = 1 word, more general"
   ]
  },
  {
   "cell_type": "code",
   "execution_count": null,
   "metadata": {},
   "outputs": [],
   "source": [
    "childrenbook = []\n",
    "inp = 0\n",
    "inputs = autograd.Variable(torch.LongTensor([inp]))\n",
    "print(output_dict[inp], end = \" \")\n",
    "for i in range(100):\n",
    "    tag_scores = model(inputs)\n",
    "    _, out = tag_scores[-1:,:].max(dim = 1)\n",
    "    childrenbook.append(output_dict[int(out.data.numpy())])\n",
    "    inputs = autograd.Variable(torch.LongTensor([tag_to_ix[output_dict[int(out.data.numpy())]]]))\n",
    "\n",
    "for i in range(int(len(childrenbook))):\n",
    "    print(childrenbook[i], end = \" \")"
   ]
  },
  {
   "cell_type": "code",
   "execution_count": null,
   "metadata": {},
   "outputs": [],
   "source": []
  }
 ],
 "metadata": {
  "kernelspec": {
   "display_name": "Python [conda env:wavenet]",
   "language": "python",
   "name": "conda-env-wavenet-py"
  },
  "language_info": {
   "codemirror_mode": {
    "name": "ipython",
    "version": 3
   },
   "file_extension": ".py",
   "mimetype": "text/x-python",
   "name": "python",
   "nbconvert_exporter": "python",
   "pygments_lexer": "ipython3",
   "version": "3.6.3"
  }
 },
 "nbformat": 4,
 "nbformat_minor": 2
}
