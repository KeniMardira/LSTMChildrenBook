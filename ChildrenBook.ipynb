{
 "cells": [
  {
   "cell_type": "code",
   "execution_count": 1,
   "metadata": {},
   "outputs": [],
   "source": [
    "import torch\n",
    "import torch.autograd as autograd\n",
    "import torch.nn as nn\n",
    "import torch.nn.functional as F\n",
    "import torch.optim as optim\n",
    "import matplotlib.pyplot as plt\n",
    "\n",
    "% matplotlib inline"
   ]
  },
  {
   "cell_type": "code",
   "execution_count": 58,
   "metadata": {},
   "outputs": [
    {
     "name": "stdout",
     "output_type": "stream",
     "text": [
      "{'The': 0, 'dog': 1, 'ate': 2, 'the': 3, 'apple': 4, 'Everybody': 5, 'read': 6, 'that': 7, 'book': 8}\n"
     ]
    }
   ],
   "source": [
    "def prepare_sequence(seq, to_ix):\n",
    "    idxs = [to_ix[w] for w in seq]\n",
    "    tensor = torch.LongTensor(idxs)\n",
    "    return autograd.Variable(tensor)\n",
    "\n",
    "\n",
    "training_data = [\n",
    "    (\"The dog ate the apple\".split(), [\"DET\", \"NN\", \"V\", \"DET\", \"NN\"]),\n",
    "    (\"Everybody read that book\".split(), [\"NN\", \"V\", \"DET\", \"NN\"])\n",
    "]\n",
    "word_to_ix = {}\n",
    "for sent, tags in training_data:\n",
    "    for word in sent:\n",
    "        if word not in word_to_ix:\n",
    "            word_to_ix[word] = len(word_to_ix)\n",
    "print(word_to_ix)\n",
    "tag_to_ix = {\"DET\": 0, \"NN\": 1, \"V\": 2}\n",
    "\n",
    "# These will usually be more like 32 or 64 dimensional.\n",
    "# We will keep them small, so we can see how the weights change as we train.\n",
    "EMBEDDING_DIM = 6\n",
    "HIDDEN_DIM = 6"
   ]
  },
  {
   "cell_type": "code",
   "execution_count": 62,
   "metadata": {},
   "outputs": [],
   "source": [
    "class LSTMTagger(nn.Module):\n",
    "\n",
    "    def __init__(self, embedding_dim, hidden_dim, vocab_size, tagset_size):\n",
    "        super(LSTMTagger, self).__init__()\n",
    "        self.hidden_dim = hidden_dim\n",
    "\n",
    "        self.word_embeddings = nn.Embedding(vocab_size, embedding_dim)\n",
    "\n",
    "        # The LSTM takes word embeddings as inputs, and outputs hidden states\n",
    "        # with dimensionality hidden_dim.\n",
    "        self.lstm = nn.LSTM(embedding_dim, hidden_dim)\n",
    "\n",
    "        # The linear layer that maps from hidden state space to tag space\n",
    "        self.hidden2tag = nn.Linear(hidden_dim, tagset_size)\n",
    "        self.hidden = self.init_hidden()\n",
    "\n",
    "    def init_hidden(self):\n",
    "        # Before we've done anything, we dont have any hidden state.\n",
    "        # Refer to the Pytorch documentation to see exactly\n",
    "        # why they have this dimensionality.\n",
    "        # The axes semantics are (num_layers, minibatch_size, hidden_dim)\n",
    "        return (autograd.Variable(torch.zeros(1, 1, self.hidden_dim)),\n",
    "                autograd.Variable(torch.zeros(1, 1, self.hidden_dim)))\n",
    "\n",
    "    def forward(self, sentence):\n",
    "        embeds = self.word_embeddings(sentence)\n",
    "        lstm_out, self.hidden = self.lstm(\n",
    "            embeds.view(len(sentence), 1, -1), self.hidden)\n",
    "        tag_space = self.hidden2tag(lstm_out.view(len(sentence), -1))\n",
    "#         print(\"_LKSJF = \", tag_space)\n",
    "        tag_scores = F.log_softmax(tag_space, dim=1)\n",
    "        return tag_scores\n"
   ]
  },
  {
   "cell_type": "code",
   "execution_count": 68,
   "metadata": {},
   "outputs": [
    {
     "name": "stdout",
     "output_type": "stream",
     "text": [
      "Variable containing:\n",
      "-0.1965 -1.7928 -4.4343\n",
      "-3.4248 -0.0360 -5.8818\n",
      "-3.8921 -4.4297 -0.0329\n",
      "-0.0317 -3.7988 -4.7365\n",
      "-3.6696 -0.0271 -6.6506\n",
      "[torch.FloatTensor of size 5x3]\n",
      "\n"
     ]
    }
   ],
   "source": [
    "model = LSTMTagger(EMBEDDING_DIM, HIDDEN_DIM, len(word_to_ix), len(tag_to_ix))\n",
    "loss_function = nn.NLLLoss()\n",
    "optimizer = optim.SGD(model.parameters(), lr=0.1)\n",
    "\n",
    "# See what the scores are before training\n",
    "# Note that element i,j of the output is the score for tag j for word i.\n",
    "inputs = prepare_sequence(training_data[0][0], word_to_ix)\n",
    "tag_scores = model(inputs)\n",
    "# print(tag_scores)\n",
    "loss_save = []\n",
    "for epoch in range(300):  # again, normally you would NOT do 300 epochs, it is toy data\n",
    "    for sentence, tags in training_data:\n",
    "        # Step 1. Remember that Pytorch accumulates gradients.\n",
    "        # We need to clear them out before each instance\n",
    "        model.zero_grad()\n",
    "\n",
    "        # Also, we need to clear out the hidden state of the LSTM,\n",
    "        # detaching it from its history on the last instance.\n",
    "        model.hidden = model.init_hidden()\n",
    "\n",
    "        # Step 2. Get our inputs ready for the network, that is, turn them into\n",
    "        # Variables of word indices.\n",
    "        sentence_in = prepare_sequence(sentence, word_to_ix)\n",
    "        targets = prepare_sequence(tags, tag_to_ix)\n",
    "#         print(sentence_in)\n",
    "#         print(targets)\n",
    "        # Step 3. Run our forward pass.\n",
    "        tag_scores = model(sentence_in)\n",
    "#         print(tag_scores,targets)\n",
    "        # Step 4. Compute the loss, gradients, and update the parameters by\n",
    "        #  calling optimizer.step()\n",
    "        loss = loss_function(tag_scores, targets)\n",
    "        loss_save.append(loss.data.numpy())\n",
    "        loss.backward()\n",
    "        optimizer.step()\n",
    "\n",
    "# See what the scores are after training\n",
    "inputs = prepare_sequence(training_data[0][0], word_to_ix)\n",
    "tag_scores = model(inputs)\n",
    "# The sentence is \"the dog ate the apple\".  i,j corresponds to score for tag j\n",
    "#  for word i. The predicted tag is the maximum scoring tag.\n",
    "# Here, we can see the predicted sequence below is 0 1 2 0 1\n",
    "# since 0 is index of the maximum value of row 1,\n",
    "# 1 is the index of maximum value of row 2, etc.\n",
    "# Which is DET NOUN VERB DET NOUN, the correct sequence!\n",
    "print(tag_scores)"
   ]
  },
  {
   "cell_type": "code",
   "execution_count": 69,
   "metadata": {},
   "outputs": [
    {
     "data": {
      "text/plain": [
       "[<matplotlib.lines.Line2D at 0x7fc9986f7cf8>]"
      ]
     },
     "execution_count": 69,
     "metadata": {},
     "output_type": "execute_result"
    },
    {
     "data": {
      "image/png": "[encoded data removed]",
      "text/plain": [
       "<matplotlib.figure.Figure at 0x7fc9985c2e10>"
      ]
     },
     "metadata": {},
     "output_type": "display_data"
    }
   ],
   "source": [
    "plt.plot(loss_save)"
   ]
  },
  {
   "cell_type": "code",
   "execution_count": null,
   "metadata": {},
   "outputs": [],
   "source": [
    "word_dict = {0:\"Doug \", 1:\"Judy \", 2:\"Brad \", 3:\"saw \", 4:\". \"}"
   ]
  },
  {
   "cell_type": "code",
   "execution_count": null,
   "metadata": {},
   "outputs": [],
   "source": [
    "vocab_size = len(word_dict)"
   ]
  },
  {
   "cell_type": "code",
   "execution_count": null,
   "metadata": {},
   "outputs": [],
   "source": [
    "sentences = torch.LongTensor([0,3,1,4])\n",
    "print(sentences)"
   ]
  },
  {
   "cell_type": "code",
   "execution_count": 102,
   "metadata": {},
   "outputs": [
    {
     "name": "stdout",
     "output_type": "stream",
     "text": [
      "{'Doug': 0, 'saw': 1, 'Judy': 2, '.': 3, 'Brad': 4}\n"
     ]
    }
   ],
   "source": [
    "# def prepare_sequence(seq, to_ix):\n",
    "#     idxs = [to_ix[w] for w in seq]\n",
    "#     tensor = torch.LongTensor(idxs)\n",
    "#     return autograd.Variable(tensor)\n",
    "def prepare_sequence(seq, to_ix):\n",
    "    idxs = [to_ix[w] for w in seq]\n",
    "    tensor = torch.LongTensor(idxs)\n",
    "    return autograd.Variable(tensor)\n",
    "\n",
    "training_data = [\n",
    "    (\"Doug saw Judy\".split(), [0,1,2], \"saw Judy .\".split(), [1,2,3]),\n",
    "    (\"saw Judy .\".split(), [1,2,3], \"Judy . Judy\".split(), [2,3,2]),\n",
    "    (\"Judy . Judy\".split(), [2,3,2], \". Judy saw\".split(), [3,2,1]),\n",
    "    (\". Judy saw\".split(), [3,2,1], \"Judy saw Brad\".split(), [2,1,4]),\n",
    "    (\"Judy saw Brad\".split(), [2,1,4], \"saw Brad .\".split(), [1,4,3]),\n",
    "    (\"saw Brad .\".split(), [1,4,3], \"Brad . Brad\".split(), [4,3,4]),\n",
    "    (\"Brad . Brad\".split(), [4,3,4], \". Brad saw\".split(), [3,4,1]),\n",
    "    (\". Brad saw\".split(), [3,4,1], \"Brad saw Doug\".split(), [4,1,0]),\n",
    "    (\"Brad saw Doug\".split(), [4,1,0], \"saw Doug .\".split(), [1,0,3]),\n",
    "    (\"saw Doug .\".split(), [1,0,3], \"Doug . Doug\".split(), [0,3,0]),\n",
    "    (\"Doug . Doug\".split(), [0,3,0], \". Doug saw\".split(), [3,0,1]),\n",
    "    (\". Doug saw\".split(), [3,0,1], \"Doug saw Judy\".split(), [0,1,2])\n",
    "]\n",
    "word_to_ix = {}\n",
    "for inp, t_in, out, t_out in training_data:\n",
    "    for word in inp:\n",
    "        if word not in word_to_ix:\n",
    "            word_to_ix[word] = len(word_to_ix)\n",
    "print(word_to_ix)\n",
    "tag_to_ix = {'Doug': 0, 'saw': 1, 'Judy': 2, '.': 3, 'Brad': 4}\n",
    "output_dict = {0:'Doug', 1:'saw', 2:'Judy', 3:'.', 4:'Brad'}\n",
    "# These will usually be more like 32 or 64 dimensional.\n",
    "# We will keep them small, so we can see how the weights change as we train.\n",
    "EMBEDDING_DIM = 6\n",
    "HIDDEN_DIM = 6"
   ]
  },
  {
   "cell_type": "code",
   "execution_count": 104,
   "metadata": {},
   "outputs": [
    {
     "data": {
      "text/plain": [
       "'Doug'"
      ]
     },
     "execution_count": 104,
     "metadata": {},
     "output_type": "execute_result"
    }
   ],
   "source": []
  },
  {
   "cell_type": "code",
   "execution_count": 124,
   "metadata": {},
   "outputs": [],
   "source": [
    "INPUT_SIZE = 6\n",
    "OUTPUT_SIZE = 6\n",
    "LAYER_SIZE = 2\n",
    "BATCH_SIZE = 1\n",
    "\n",
    "class CBLSTM(nn.Module):\n",
    "\n",
    "    def __init__(self, embedding_dim, hidden_dim, vocab_size, tagset_size):\n",
    "        super(CBLSTM, self).__init__()\n",
    "        self.hidden_dim = hidden_dim\n",
    "        self.vocab_size = vocab_size\n",
    "        self.word_embeddings = nn.Embedding(vocab_size, INPUT_SIZE)\n",
    "\n",
    "        # The LSTM takes word embeddings as inputs, and outputs hidden states\n",
    "        # with dimensionality hidden_dim.\n",
    "        self.lstm = nn.LSTM(INPUT_SIZE, OUTPUT_SIZE, LAYER_SIZE)\n",
    "\n",
    "        # The linear layer that maps from hidden state space to tag space\n",
    "        self.hidden2tag = nn.Linear(OUTPUT_SIZE, tagset_size)\n",
    "        self.hidden = self.init_hidden()\n",
    "\n",
    "    def init_hidden(self):\n",
    "        # Before we've done anything, we dont have any hidden state.\n",
    "        # Refer to the Pytorch documentation to see exactly\n",
    "        # why they have this dimensionality.\n",
    "        # The axes semantics are (num_layers, minibatch_size, hidden_dim)\n",
    "        return (autograd.Variable(torch.zeros(LAYER_SIZE, BATCH_SIZE, OUTPUT_SIZE)),\n",
    "                autograd.Variable(torch.zeros(LAYER_SIZE, BATCH_SIZE, OUTPUT_SIZE)))\n",
    "\n",
    "    def forward(self, sentence):\n",
    "        embeds = self.word_embeddings(sentence) # embed the sentence e.g. [0,1,2] to 3x6 (3 words, 6 embed size)\n",
    "        lstm_out, self.hidden = self.lstm(\n",
    "            embeds.view(len(sentence), 1, -1), self.hidden)\n",
    "#         print(\"OUT = \", lstm_out)\n",
    "#         print(\"HID = \", self.hidden)\n",
    "        tag_space = self.hidden2tag(lstm_out.view(len(sentence), -1))\n",
    "#         print(tag_space)\n",
    "#         _, out = tag_space.max(dim=1)\n",
    "        tag_scores = F.log_softmax(tag_space, dim=1)\n",
    "        return tag_scores"
   ]
  },
  {
   "cell_type": "code",
   "execution_count": 125,
   "metadata": {},
   "outputs": [
    {
     "data": {
      "image/png": "[encoded data removed]",
      "text/plain": [
       "<matplotlib.figure.Figure at 0x7fc9986b8ac8>"
      ]
     },
     "metadata": {},
     "output_type": "display_data"
    }
   ],
   "source": [
    "model = CBLSTM(EMBEDDING_DIM, HIDDEN_DIM, len(word_to_ix), len(tag_to_ix))\n",
    "loss_function = nn.NLLLoss()\n",
    "optimizer = optim.SGD(model.parameters(), lr=0.1)\n",
    "inputs = autograd.Variable(torch.LongTensor(training_data[0][1]))\n",
    "target = autograd.Variable(torch.LongTensor(training_data[0][3]))\n",
    "tag_scores = model(inputs)\n",
    "# print(tag_scores)\n",
    "flag = 0\n",
    "loss_save = []\n",
    "for epoch in range(3000):  # again, normally you would NOT do 300 epochs, it is toy data\n",
    "#     print(\"EPOCH = \", epoch)\n",
    "    for sentence, _, tags, _ in training_data:\n",
    "        model.zero_grad()\n",
    "        model.hidden = model.init_hidden()\n",
    "        sentence_in = prepare_sequence(sentence, word_to_ix)\n",
    "        targets = prepare_sequence(tags, tag_to_ix)\n",
    "        tag_scores = model(sentence_in)\n",
    "        loss = loss_function(tag_scores, targets)\n",
    "        loss_save.append(loss.data[0])\n",
    "        loss.backward()\n",
    "        optimizer.step()\n",
    "\n",
    "plt.figure(figsize=[20,6])\n",
    "plt.plot(loss_save)\n",
    "# plt.xlim([0,50])\n",
    "plt.show()\n"
   ]
  },
  {
   "cell_type": "code",
   "execution_count": 139,
   "metadata": {},
   "outputs": [
    {
     "name": "stdout",
     "output_type": "stream",
     "text": [
      "['Doug', 'saw', 'Judy', '.', 'Judy', 'saw', 'Brad', '.', 'Brad', 'saw', 'Doug', '.', 'Doug', 'saw', 'Judy', '.', 'Judy', 'saw', 'Brad', '.', 'Brad', 'saw', 'Doug', '.', 'Doug', 'saw', 'Judy', '.', 'Judy', 'saw', 'Brad', '.', 'Brad', 'saw', 'Doug', '.', 'Doug', 'saw', 'Judy', '.', 'Judy', 'saw', 'Brad', '.', 'Brad', 'saw', 'Doug', '.', 'Doug', 'saw', 'Judy', '.', 'Judy', 'saw', 'Brad', '.', 'Brad', 'saw', 'Doug', '.', 'Doug', 'saw', 'Judy', '.', 'Judy', 'saw', 'Brad', '.', 'Brad', 'saw', 'Doug', '.', 'Doug', 'saw', 'Judy', '.', 'Judy', 'saw', 'Brad', '.', 'Brad', 'saw', 'Doug', '.', 'Doug', 'saw', 'Judy', '.', 'Judy', 'saw', 'Brad', '.', 'Brad', 'saw', 'Doug', '.', 'Doug', 'saw', 'Judy', '.']\n"
     ]
    }
   ],
   "source": [
    "childrenbook = []\n",
    "inputs = prepare_sequence(training_data[9][0], word_to_ix)\n",
    "for i in range(100):\n",
    "    tag_scores = model(inputs)\n",
    "    _, out = tag_scores[-1:,:].max(dim = 1)\n",
    "    childrenbook.append(output_dict[int(out.data.numpy())])\n",
    "#     print(inputs)\n",
    "    inputs = inputs[1:]\n",
    "#     print(inputs)\n",
    "    nextin = autograd.Variable(torch.LongTensor([tag_to_ix[output_dict[int(out.data.numpy())]]]))\n",
    "    inputs = torch.cat((inputs, nextin))\n",
    "\n",
    "print(childrenbook)\n",
    "#     print(inputs)\n",
    "# The sentence is \"the dog ate the apple\".  i,j corresponds to score for tag j\n",
    "#  for word i. The predicted tag is the maximum scoring tag.\n",
    "# Here, we can see the predicted sequence below is 0 1 2 0 1\n",
    "# since 0 is index of the maximum value of row 1,\n",
    "# 1 is the index of maximum value of row 2, etc.\n",
    "# Which is DET NOUN VERB DET NOUN, the correct sequence!\n",
    "# print(tag_scores)"
   ]
  },
  {
   "cell_type": "code",
   "execution_count": 133,
   "metadata": {},
   "outputs": [
    {
     "data": {
      "image/png": "[encoded data removed]",
      "text/plain": [
       "<matplotlib.figure.Figure at 0x7fc99872e748>"
      ]
     },
     "metadata": {},
     "output_type": "display_data"
    }
   ],
   "source": [
    "plt.figure(figsize=[20,6])\n",
    "plt.plot(loss_save)\n",
    "# plt.xlim([0,50])\n",
    "plt.show()"
   ]
  },
  {
   "cell_type": "code",
   "execution_count": null,
   "metadata": {},
   "outputs": [],
   "source": [
    "test = nn.Embedding(vocab_size, 10)\n",
    "\n"
   ]
  },
  {
   "cell_type": "code",
   "execution_count": null,
   "metadata": {},
   "outputs": [],
   "source": [
    "print(test)\n",
    "print(targets)\n",
    "F.cross_entropy(test,targets)"
   ]
  },
  {
   "cell_type": "code",
   "execution_count": null,
   "metadata": {},
   "outputs": [],
   "source": []
  }
 ],
 "metadata": {
  "kernelspec": {
   "display_name": "Python [conda env:wavenet]",
   "language": "python",
   "name": "conda-env-wavenet-py"
  },
  "language_info": {
   "codemirror_mode": {
    "name": "ipython",
    "version": 3
   },
   "file_extension": ".py",
   "mimetype": "text/x-python",
   "name": "python",
   "nbconvert_exporter": "python",
   "pygments_lexer": "ipython3",
   "version": "3.6.3"
  }
 },
 "nbformat": 4,
 "nbformat_minor": 2
}
